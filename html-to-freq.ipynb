{
 "cells": [
  {
   "cell_type": "code",
   "execution_count": 1,
   "id": "d2e8f457",
   "metadata": {},
   "outputs": [
    {
     "ename": "AttributeError",
     "evalue": "module 'obo' has no attribute 'sortFreqDict'",
     "output_type": "error",
     "traceback": [
      "\u001b[31m---------------------------------------------------------------------------\u001b[39m",
      "\u001b[31mAttributeError\u001b[39m                            Traceback (most recent call last)",
      "\u001b[36mCell\u001b[39m\u001b[36m \u001b[39m\u001b[32mIn[1]\u001b[39m\u001b[32m, line 10\u001b[39m\n\u001b[32m      8\u001b[39m wordlist = obo.stripNonAlphaNum(text)\n\u001b[32m      9\u001b[39m dictionary = obo.wordListToFreqDict(wordlist)\n\u001b[32m---> \u001b[39m\u001b[32m10\u001b[39m sorteddict = \u001b[43mobo\u001b[49m\u001b[43m.\u001b[49m\u001b[43msortFreqDict\u001b[49m(dictionary)\n\u001b[32m     12\u001b[39m \u001b[38;5;28;01mfor\u001b[39;00m s \u001b[38;5;129;01min\u001b[39;00m sorteddict: \u001b[38;5;28mprint\u001b[39m(\u001b[38;5;28mstr\u001b[39m(s))\n",
      "\u001b[31mAttributeError\u001b[39m: module 'obo' has no attribute 'sortFreqDict'"
     ]
    }
   ],
   "source": [
    "import urllib.request, urllib.error, urllib.parse, obo\n",
    "\n",
    "url = 'http://www.oldbaileyonline.org/browse.jsp?id=t17800628-33&div=t17800628-33'\n",
    "\n",
    "response = urllib.request.urlopen(url)\n",
    "html = response.read().decode('UTF-8')\n",
    "text = obo.stripTags(html).lower()\n",
    "wordlist = obo.stripNonAlphaNum(text)\n",
    "dictionary = obo.wordListToFreqDict(wordlist)\n",
    "sorteddict = obo.sortFreqDict(dictionary)\n",
    "\n",
    "for s in sorteddict: print(str(s))"
   ]
  }
 ],
 "metadata": {
  "kernelspec": {
   "display_name": "Python 3",
   "language": "python",
   "name": "python3"
  },
  "language_info": {
   "codemirror_mode": {
    "name": "ipython",
    "version": 3
   },
   "file_extension": ".py",
   "mimetype": "text/x-python",
   "name": "python",
   "nbconvert_exporter": "python",
   "pygments_lexer": "ipython3",
   "version": "3.12.1"
  }
 },
 "nbformat": 4,
 "nbformat_minor": 5
}
