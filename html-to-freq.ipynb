{
 "cells": [
  {
   "cell_type": "code",
   "execution_count": 1,
   "id": "d2e8f457",
   "metadata": {},
   "outputs": [
    {
     "name": "stdout",
     "output_type": "stream",
     "text": [
      "(1, '')\n"
     ]
    }
   ],
   "source": [
    "import urllib.request, urllib.error, urllib.parse, obo\n",
    "\n",
    "url = 'http://www.oldbaileyonline.org/browse.jsp?id=t17800628-33&div=t17800628-33'\n",
    "\n",
    "response = urllib.request.urlopen(url)\n",
    "html = response.read().decode('UTF-8')\n",
    "text = obo.stripTags(html).lower()\n",
    "wordlist = obo.stripNonAlphaNum(text)\n",
    "dictionary = obo.wordListToFreqDict(wordlist)\n",
    "sorteddict = obo.sortFreqDict(dictionary)\n",
    "\n",
    "for s in sorteddict: print(str(s))"
   ]
  }
 ],
 "metadata": {
  "kernelspec": {
   "display_name": "Python 3",
   "language": "python",
   "name": "python3"
  },
  "language_info": {
   "codemirror_mode": {
    "name": "ipython",
    "version": 3
   },
   "file_extension": ".py",
   "mimetype": "text/x-python",
   "name": "python",
   "nbconvert_exporter": "python",
   "pygments_lexer": "ipython3",
   "version": "3.12.1"
  }
 },
 "nbformat": 4,
 "nbformat_minor": 5
}
