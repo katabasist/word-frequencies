{
 "cells": [
  {
   "cell_type": "code",
   "execution_count": null,
   "id": "b4cd3c49",
   "metadata": {},
   "outputs": [],
   "source": [
    "def stripTags(pageContents):\n",
    "    pageContents = str(pageContents)\n",
    "    startLoc = pageContents.find(\"<p>\")\n",
    "    endLoc = pageContents.rfind(\"<br/>\")\n",
    "\n",
    "    pageContents = pageContents[startLoc:endLoc]\n",
    "\n",
    "    inside = 0\n",
    "    text = ''\n",
    "\n",
    "    for char in pageContents:\n",
    "        if char == '<':\n",
    "            inside = 1\n",
    "        elif (inside == 1 and char == '>'):\n",
    "            inside = 0\n",
    "        elif inside == 1:\n",
    "            continue\n",
    "        else:\n",
    "            text += char\n",
    "\n",
    "    return text\n",
    "\n",
    "# Given a text string, remove all non-alphanumeric\n",
    "# characters (using Unicode definition of alphanumeric).\n",
    "\n",
    "def stripNonAlphaNum(text):\n",
    "    import re\n",
    "    return re.compile(r'\\W+', re.UNICODE).split(text)"
   ]
  },
  {
   "cell_type": "code",
   "execution_count": 2,
   "id": "ed23b836",
   "metadata": {},
   "outputs": [],
   "source": [
    "def wordListToFreqDict(wordlist):\n",
    "    wordfreq = [wordlist.count(p) for p in wordlist]\n",
    "    return dict(list(zip(wordlist,wordfreq)))"
   ]
  },
  {
   "cell_type": "code",
   "execution_count": 3,
   "id": "bdd751e9",
   "metadata": {},
   "outputs": [],
   "source": [
    "# Sort a dictionary of word-frequency pairs in\n",
    "# order of descending frequency.\n",
    "\n",
    "def sortFreqDict(freqdict):\n",
    "    aux = [(freqdict[key], key) for key in freqdict]\n",
    "    aux.sort()\n",
    "    aux.reverse()\n",
    "    return aux"
   ]
  }
 ],
 "metadata": {
  "kernelspec": {
   "display_name": "Python 3",
   "language": "python",
   "name": "python3"
  },
  "language_info": {
   "codemirror_mode": {
    "name": "ipython",
    "version": 3
   },
   "file_extension": ".py",
   "mimetype": "text/x-python",
   "name": "python",
   "nbconvert_exporter": "python",
   "pygments_lexer": "ipython3",
   "version": "3.12.1"
  }
 },
 "nbformat": 4,
 "nbformat_minor": 5
}
